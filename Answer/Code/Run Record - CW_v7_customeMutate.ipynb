{
 "cells": [
  {
   "cell_type": "code",
   "execution_count": 1,
   "id": "6827d29f-4e3d-4f66-8054-acde5eaa450b",
   "metadata": {},
   "outputs": [
    {
     "name": "stdout",
     "output_type": "stream",
     "text": [
      "time: 0 ns (started: 2023-12-07 07:41:48 +00:00)\n"
     ]
    }
   ],
   "source": [
    "%load_ext autotime"
   ]
  },
  {
   "cell_type": "code",
   "execution_count": 2,
   "id": "d85ea08a-22f5-4194-8659-4a314e6ae2dd",
   "metadata": {},
   "outputs": [
    {
     "name": "stdout",
     "output_type": "stream",
     "text": [
      "time: 734 ms (started: 2023-12-07 07:41:48 +00:00)\n"
     ]
    }
   ],
   "source": [
    "import numpy as np\n",
    "import subprocess\n",
    "import os\n",
    "import pandas as pd\n",
    "import matplotlib.pyplot as plt\n",
    "import random\n",
    "import array\n",
    "import csv\n",
    "\n",
    "\n",
    "# import deap packages required\n",
    "from deap import algorithms\n",
    "from deap import base\n",
    "from deap import creator\n",
    "from deap import tools\n",
    "\n",
    "import winsound"
   ]
  },
  {
   "cell_type": "code",
   "execution_count": 3,
   "id": "fa708e63-ba95-4c19-8f70-b579fac20e5c",
   "metadata": {},
   "outputs": [
    {
     "name": "stdout",
     "output_type": "stream",
     "text": [
      "time: 0 ns (started: 2023-12-07 07:41:49 +00:00)\n"
     ]
    }
   ],
   "source": [
    "path_binary = \"CourseworkExecutables/bit_cam_napier_windows.exe\"\n",
    "path_binary_vis = \"CourseworkExecutables/bit_cam_napier_visualisation_windows.exe\"\n",
    "\n",
    "pathList = [ \"Instance/MerchistonD._5_cameras.csv\", \n",
    "            \"Instance/NMScotlandFloor5Left_5_cameras.csv\", \n",
    "            \"Instance/NMScotlandFloor5Right_5_cameras.csv\", \n",
    "            \"Instance/Wallstest1_5_cameras.csv\", \n",
    "            \"Instance/Wallstest2_5_cameras.csv\"]"
   ]
  },
  {
   "cell_type": "code",
   "execution_count": 4,
   "id": "175744c8-c92c-4f2b-9af9-55f62a236718",
   "metadata": {},
   "outputs": [
    {
     "name": "stdout",
     "output_type": "stream",
     "text": [
      "time: 0 ns (started: 2023-12-07 07:41:49 +00:00)\n"
     ]
    }
   ],
   "source": [
    "nb_cameras = 5\n",
    "instance_size  = 100\n",
    "num_cells = instance_size * instance_size"
   ]
  },
  {
   "cell_type": "markdown",
   "id": "6e7051b7-f57d-4aa0-8fb3-c0b62ae76ae8",
   "metadata": {},
   "source": [
    "## CW_v2_limitCam.ipynb"
   ]
  },
  {
   "cell_type": "code",
   "execution_count": 5,
   "id": "f9684851-f969-4017-b935-1493c7577b3a",
   "metadata": {},
   "outputs": [
    {
     "name": "stdout",
     "output_type": "stream",
     "text": [
      "time: 0 ns (started: 2023-12-07 07:41:49 +00:00)\n"
     ]
    }
   ],
   "source": [
    "def openfile(walls):\n",
    "    with open(myinst) as csv_file:\n",
    "        csv_reader = csv.reader(csv_file, delimiter=',')\n",
    "        for line in csv_reader:\n",
    "            column=int(line[0])\n",
    "            row=int(line[1])\n",
    "            oneD_index = (row * instance_size) + column;\n",
    "            walls[oneD_index]=1\n",
    "            walls = np.zeros(instance_size*instance_size)\n",
    "    return walls\n"
   ]
  },
  {
   "cell_type": "code",
   "execution_count": 6,
   "id": "690b07be-49ce-45b3-af0f-f571b624f239",
   "metadata": {},
   "outputs": [
    {
     "name": "stdout",
     "output_type": "stream",
     "text": [
      "time: 0 ns (started: 2023-12-07 07:41:49 +00:00)\n"
     ]
    }
   ],
   "source": [
    "def objective_function(x, instance_size, nb_cameras, instance_file):\n",
    "    params = ['%.16g' % a for a in x]\n",
    "    cmd = [path_binary,str(instance_size),str(nb_cameras)]+params+[instance_file]\n",
    "    s = subprocess.check_output(cmd)\n",
    "    return float(s)\n",
    "\n",
    "\n",
    "# Do NOT modify: this checks whether a camera is positioned on top of wall in a solution\n",
    "def check_walls(solution, inst):\n",
    "    clashes=0\n",
    "    for i in range(0, len(solution)):\n",
    "        if (walls[i] == 1 and solution[i]==1):\n",
    "            clashes+=1\n",
    "            \n",
    "    return(clashes)"
   ]
  },
  {
   "cell_type": "code",
   "execution_count": 7,
   "id": "8dad8bba-bad7-4123-8346-6a1af92288b7",
   "metadata": {},
   "outputs": [
    {
     "name": "stdout",
     "output_type": "stream",
     "text": [
      "time: 0 ns (started: 2023-12-07 07:41:49 +00:00)\n"
     ]
    }
   ],
   "source": [
    "def convert_individual_bitstring(individual):\n",
    "    converted_individual = np.zeros(num_cells)\n",
    "    for i in range(len(individual)):\n",
    "        converted_individual[individual[i]] = 1\n",
    "    return converted_individual\n"
   ]
  },
  {
   "cell_type": "code",
   "execution_count": 8,
   "id": "daffffda-f975-4fd3-a178-ee3030b87c29",
   "metadata": {},
   "outputs": [
    {
     "name": "stdout",
     "output_type": "stream",
     "text": [
      "time: 0 ns (started: 2023-12-07 07:41:49 +00:00)\n"
     ]
    }
   ],
   "source": [
    "fitness_cache = {}\n",
    "\n",
    "def eval_function(individual, indpb=None):\n",
    "    indiv_key = tuple(individual)\n",
    "\n",
    "    if indiv_key in fitness_cache:\n",
    "        return fitness_cache[indiv_key],\n",
    "\n",
    "    solution = convert_individual_bitstring(individual)\n",
    "    total_cameras = np.sum(solution)\n",
    "\n",
    "    if instance_file == \"\":\n",
    "        cameras_on_walls = 0\n",
    "    else:\n",
    "        cameras_on_walls = check_walls(solution, instance_file)\n",
    "\n",
    "    fitness = 0\n",
    "\n",
    "    if total_cameras > nb_cameras:\n",
    "        fitness += num_cells * 10 * (total_cameras - nb_cameras)\n",
    "    elif total_cameras < nb_cameras:\n",
    "        fitness += num_cells * 2 * (nb_cameras - total_cameras)\n",
    "\n",
    "    if cameras_on_walls > 0:\n",
    "        fitness += num_cells * cameras_on_walls\n",
    "\n",
    "    if not fitness:\n",
    "        fitness = objective_function(solution, instance_size, nb_cameras, instance_file)\n",
    "\n",
    "    fitness_cache[indiv_key] = fitness\n",
    "    return fitness,"
   ]
  },
  {
   "cell_type": "code",
   "execution_count": 9,
   "id": "d4608274-df71-4109-967d-d91491356359",
   "metadata": {},
   "outputs": [
    {
     "name": "stdout",
     "output_type": "stream",
     "text": [
      "time: 0 ns (started: 2023-12-07 07:41:49 +00:00)\n"
     ]
    }
   ],
   "source": [
    "def custom_mutate(individual, num_cells_rangeSet, indpb):\n",
    "    possible_values = list(num_cells_rangeSet - set(individual))\n",
    "    for i in range(len(individual)):\n",
    "        if random.random() < indpb:\n",
    "            if possible_values:\n",
    "                unused_value = random.choice(list(possible_values))\n",
    "                possible_values.remove(unused_value)\n",
    "                individual[i] = unused_value\n",
    "    return individual,"
   ]
  },
  {
   "cell_type": "code",
   "execution_count": null,
   "id": "49537681-c342-48db-8d1e-038717df4a54",
   "metadata": {},
   "outputs": [],
   "source": []
  },
  {
   "cell_type": "code",
   "execution_count": 10,
   "id": "4221c8ac-b8b0-49cd-896c-f03fd749d17c",
   "metadata": {},
   "outputs": [
    {
     "name": "stdout",
     "output_type": "stream",
     "text": [
      "time: 0 ns (started: 2023-12-07 07:41:49 +00:00)\n"
     ]
    }
   ],
   "source": [
    "# Define the fitness class and create an individual class - set up as a minimization problem\n",
    "creator.create(\"FitnessMin\", base.Fitness, weights=(-1.0,))\n",
    "creator.create(\"Individual\", list, fitness=creator.FitnessMin)\n",
    "\n",
    "# Create a toolbox\n",
    "toolbox = base.Toolbox()\n",
    "\n",
    "# Register 'attr_int' to generate a list of unique integers\n",
    "toolbox.register(\"attr_int\", random.sample, range(num_cells), nb_cameras)\n",
    "\n",
    "# Register 'individual' to create an individual\n",
    "toolbox.register(\"individual\", tools.initIterate, creator.Individual, toolbox.attr_int)\n",
    "\n",
    "# Register 'population' to create a population\n",
    "toolbox.register(\"population\", tools.initRepeat, list, toolbox.individual)\n",
    "\n",
    "# Register all operators needed with the toolbox\n",
    "toolbox.register(\"evaluate\", eval_function)\n",
    "toolbox.register(\"mate\", tools.cxTwoPoint)\n",
    "\n",
    "# toolbox.register(\"mutate\", tools.mutFlipBit, indpb=0.3)\n",
    "toolbox.register(\"mutate\", custom_mutate, num_cells_rangeSet=set(range(num_cells)), indpb=0.5)\n",
    "\n",
    "toolbox.register(\"select\", tools.selTournament, tournsize=2)\n"
   ]
  },
  {
   "cell_type": "code",
   "execution_count": 11,
   "id": "bfe8d03f-33f3-486a-a0f4-71a5ece6e082",
   "metadata": {},
   "outputs": [
    {
     "name": "stdout",
     "output_type": "stream",
     "text": [
      "time: 0 ns (started: 2023-12-07 07:41:49 +00:00)\n"
     ]
    }
   ],
   "source": [
    "ngen = 200\n",
    "popsize = 50\n",
    "\n",
    "def main():\n",
    "\n",
    "    pop = toolbox.population(n=popsize)\n",
    "\n",
    "    hof = tools.HallOfFame(1)\n",
    "\n",
    "    stats = tools.Statistics(lambda ind: ind.fitness.values)\n",
    "    stats.register(\"avg\", np.mean)\n",
    "    stats.register(\"std\", np.std)\n",
    "    stats.register(\"min\", np.min)\n",
    "    stats.register(\"max\", np.max)\n",
    "\n",
    "    pop, log = algorithms.eaSimple(pop, toolbox, cxpb=1.0, mutpb=0.05, ngen=ngen,\n",
    "                                   stats=stats, halloffame=hof, verbose=False)\n",
    "\n",
    "    return pop, log, hof"
   ]
  },
  {
   "cell_type": "code",
   "execution_count": 12,
   "id": "64872943-f486-4ace-b26b-9c577b9dd2c6",
   "metadata": {},
   "outputs": [
    {
     "name": "stdout",
     "output_type": "stream",
     "text": [
      "time: 0 ns (started: 2023-12-07 07:41:49 +00:00)\n"
     ]
    }
   ],
   "source": [
    "import time\n",
    "import gc\n",
    "\n",
    "\n",
    "def runs(n):\n",
    "    max_fitness_list = []\n",
    "    gen_number_list = []\n",
    "    num_cameras_list = []\n",
    "    iteration_time_list = []\n",
    "\n",
    "    for iteration in range(n):\n",
    "        start_time = time.time()\n",
    "        pop, log, hof = main()\n",
    "\n",
    "        best = hof[0].fitness.values[0]\n",
    "        \n",
    "        min_fitness_per_gen = log.select(\"min\")  \n",
    "        \n",
    "        for i in range(ngen):  # set to ngen\n",
    "            fit = min_fitness_per_gen[i]\n",
    "            if fit == best:\n",
    "                break\n",
    "\n",
    "        end_time = time.time()\n",
    "        iteration_time = end_time - start_time\n",
    "\n",
    "        max_fitness_list.append(best)\n",
    "        gen_number_list.append(i)\n",
    "        num_cameras_list.append(len(hof[0]))\n",
    "        iteration_time_list.append(iteration_time)\n",
    "\n",
    "        print(\"Run No.\", iteration + 1)\n",
    "        print(\"max fitness found is %s at gen %s \" % (best, i))\n",
    "        print(\"number of cameras is %s\" % (len(hof[0])))\n",
    "        print(hof[0])\n",
    "        print(f\"Iteration {iteration + 1} took {iteration_time:.2f} seconds\")\n",
    "        print()\n",
    "\n",
    "    return max_fitness_list, gen_number_list, num_cameras_list, iteration_time_list"
   ]
  },
  {
   "cell_type": "code",
   "execution_count": 13,
   "id": "fb0fd4b1-6b43-4dd5-8656-7198f3fb300a",
   "metadata": {
    "scrolled": true
   },
   "outputs": [
    {
     "name": "stdout",
     "output_type": "stream",
     "text": [
      "Run No. 1\n",
      "max fitness found is 2267.0 at gen 18 \n",
      "number of cameras is 5\n",
      "[5815, 7279, 2029, 1178, 8746]\n",
      "Iteration 1 took 77.81 seconds\n",
      "\n",
      "Run No. 2\n",
      "max fitness found is 2074.0 at gen 8 \n",
      "number of cameras is 5\n",
      "[1832, 6813, 2078, 6639, 7779]\n",
      "Iteration 2 took 74.64 seconds\n",
      "\n",
      "Run No. 3\n",
      "max fitness found is 2290.0 at gen 158 \n",
      "number of cameras is 5\n",
      "[1979, 6844, 1823, 6413, 6778]\n",
      "Iteration 3 took 91.26 seconds\n",
      "\n",
      "Run No. 4\n",
      "max fitness found is 2474.0 at gen 45 \n",
      "number of cameras is 5\n",
      "[8339, 7068, 1532, 1479, 7512]\n",
      "Iteration 4 took 77.65 seconds\n",
      "\n",
      "Run No. 5\n",
      "max fitness found is 2395.0 at gen 21 \n",
      "number of cameras is 5\n",
      "[1977, 3138, 7593, 7404, 8351]\n",
      "Iteration 5 took 83.31 seconds\n",
      "\n",
      "Run No. 6\n",
      "max fitness found is 2298.0 at gen 199 \n",
      "number of cameras is 5\n",
      "[7775, 7513, 1876, 2737, 7748]\n",
      "Iteration 6 took 93.73 seconds\n",
      "\n",
      "Run No. 7\n",
      "max fitness found is 2534.0 at gen 16 \n",
      "number of cameras is 5\n",
      "[8074, 6807, 629, 3187, 7132]\n",
      "Iteration 7 took 85.37 seconds\n",
      "\n",
      "Run No. 8\n",
      "max fitness found is 2278.0 at gen 186 \n",
      "number of cameras is 5\n",
      "[6544, 6616, 2678, 8080, 2124]\n",
      "Iteration 8 took 73.02 seconds\n",
      "\n",
      "Run No. 9\n",
      "max fitness found is 2037.0 at gen 10 \n",
      "number of cameras is 5\n",
      "[6745, 1880, 6209, 7880, 1928]\n",
      "Iteration 9 took 70.77 seconds\n",
      "\n",
      "Run No. 10\n",
      "max fitness found is 2182.0 at gen 177 \n",
      "number of cameras is 5\n",
      "[6410, 1231, 8082, 2480, 6638]\n",
      "Iteration 10 took 74.12 seconds\n",
      "\n",
      "Run No. 11\n",
      "max fitness found is 2506.0 at gen 77 \n",
      "number of cameras is 5\n",
      "[1326, 8486, 4779, 874, 7728]\n",
      "Iteration 11 took 77.49 seconds\n",
      "\n",
      "Run No. 12\n",
      "max fitness found is 2125.0 at gen 140 \n",
      "number of cameras is 5\n",
      "[7382, 1127, 6842, 776, 7009]\n",
      "Iteration 12 took 76.62 seconds\n",
      "\n",
      "Run No. 13\n",
      "max fitness found is 2189.0 at gen 192 \n",
      "number of cameras is 5\n",
      "[7952, 3034, 7712, 7784, 1176]\n",
      "Iteration 13 took 77.35 seconds\n",
      "\n",
      "Run No. 14\n",
      "max fitness found is 2048.0 at gen 181 \n",
      "number of cameras is 5\n",
      "[7682, 1329, 6412, 1778, 7637]\n",
      "Iteration 14 took 81.51 seconds\n",
      "\n",
      "Run No. 15\n",
      "max fitness found is 2215.0 at gen 198 \n",
      "number of cameras is 5\n",
      "[7610, 7234, 1582, 1427, 8281]\n",
      "Iteration 15 took 81.50 seconds\n",
      "\n",
      "Instance/MerchistonD._5_cameras.csv\n",
      "[2267.0, 2074.0, 2290.0, 2474.0, 2395.0, 2298.0, 2534.0, 2278.0, 2037.0, 2182.0, 2506.0, 2125.0, 2189.0, 2048.0, 2215.0]\n",
      "\n",
      "[18, 8, 158, 45, 21, 199, 16, 186, 10, 177, 77, 140, 192, 181, 198]\n",
      "\n",
      "[5, 5, 5, 5, 5, 5, 5, 5, 5, 5, 5, 5, 5, 5, 5]\n",
      "\n",
      "[77.80886602401733, 74.642343044281, 91.2552649974823, 77.64691972732544, 83.31493401527405, 93.72871541976929, 85.3708906173706, 73.01626968383789, 70.7707622051239, 74.11604237556458, 77.49485492706299, 76.61994242668152, 77.35479044914246, 81.50946044921875, 81.5022804737091]\n",
      "\n",
      "\n",
      "\n",
      "Run No. 1\n",
      "max fitness found is 1358.0 at gen 74 \n",
      "number of cameras is 5\n",
      "[1575, 8020, 4574, 8375, 3326]\n",
      "Iteration 1 took 79.73 seconds\n",
      "\n",
      "Run No. 2\n",
      "max fitness found is 1179.0 at gen 194 \n",
      "number of cameras is 5\n",
      "[2219, 7314, 7682, 1775, 6141]\n",
      "Iteration 2 took 87.50 seconds\n",
      "\n",
      "Run No. 3\n",
      "max fitness found is 1283.0 at gen 133 \n",
      "number of cameras is 5\n",
      "[8468, 8420, 2585, 2822, 3448]\n",
      "Iteration 3 took 81.67 seconds\n",
      "\n",
      "Run No. 4\n",
      "max fitness found is 1302.0 at gen 16 \n",
      "number of cameras is 5\n",
      "[2278, 5381, 8420, 2619, 7381]\n",
      "Iteration 4 took 81.80 seconds\n",
      "\n",
      "Run No. 5\n",
      "max fitness found is 1507.0 at gen 69 \n",
      "number of cameras is 5\n",
      "[3385, 7678, 2947, 2115, 8022]\n",
      "Iteration 5 took 82.21 seconds\n",
      "\n",
      "Run No. 6\n",
      "max fitness found is 1651.0 at gen 50 \n",
      "number of cameras is 5\n",
      "[8126, 3326, 478, 7580, 5976]\n",
      "Iteration 6 took 77.16 seconds\n",
      "\n",
      "Run No. 7\n",
      "max fitness found is 1173.0 at gen 5 \n",
      "number of cameras is 5\n",
      "[2056, 7780, 3117, 8019, 3484]\n",
      "Iteration 7 took 74.14 seconds\n",
      "\n",
      "Run No. 8\n",
      "max fitness found is 1542.0 at gen 22 \n",
      "number of cameras is 5\n",
      "[8080, 8827, 3885, 3219, 1171]\n",
      "Iteration 8 took 80.51 seconds\n",
      "\n",
      "Run No. 9\n",
      "max fitness found is 1196.0 at gen 146 \n",
      "number of cameras is 5\n",
      "[5580, 1472, 8122, 8070, 3220]\n",
      "Iteration 9 took 75.15 seconds\n",
      "\n",
      "Run No. 10\n",
      "max fitness found is 1176.0 at gen 187 \n",
      "number of cameras is 5\n",
      "[3122, 7820, 4776, 8167, 872]\n",
      "Iteration 10 took 84.64 seconds\n",
      "\n",
      "Run No. 11\n",
      "max fitness found is 1142.0 at gen 6 \n",
      "number of cameras is 5\n",
      "[8479, 2921, 3088, 2460, 8218]\n",
      "Iteration 11 took 79.66 seconds\n",
      "\n",
      "Run No. 12\n",
      "max fitness found is 1424.0 at gen 199 \n",
      "number of cameras is 5\n",
      "[2379, 7482, 3959, 8324, 2519]\n",
      "Iteration 12 took 77.61 seconds\n",
      "\n",
      "Run No. 13\n",
      "max fitness found is 1180.0 at gen 13 \n",
      "number of cameras is 5\n",
      "[7882, 2723, 783, 5583, 7920]\n",
      "Iteration 13 took 75.12 seconds\n",
      "\n",
      "Run No. 14\n",
      "max fitness found is 1357.0 at gen 15 \n",
      "number of cameras is 5\n",
      "[2582, 2736, 1207, 8384, 8019]\n",
      "Iteration 14 took 68.01 seconds\n",
      "\n",
      "Run No. 15\n",
      "max fitness found is 1151.0 at gen 193 \n",
      "number of cameras is 5\n",
      "[972, 8319, 2823, 8281, 5981]\n",
      "Iteration 15 took 93.79 seconds\n",
      "\n",
      "Instance/NMScotlandFloor5Left_5_cameras.csv\n",
      "[1358.0, 1179.0, 1283.0, 1302.0, 1507.0, 1651.0, 1173.0, 1542.0, 1196.0, 1176.0, 1142.0, 1424.0, 1180.0, 1357.0, 1151.0]\n",
      "\n",
      "[74, 194, 133, 16, 69, 50, 5, 22, 146, 187, 6, 199, 13, 15, 193]\n",
      "\n",
      "[5, 5, 5, 5, 5, 5, 5, 5, 5, 5, 5, 5, 5, 5, 5]\n",
      "\n",
      "[79.73053979873657, 87.49816513061523, 81.67019081115723, 81.80159306526184, 82.21036124229431, 77.1623420715332, 74.14367032051086, 80.50789976119995, 75.14794659614563, 84.6360399723053, 79.65500998497009, 77.61061096191406, 75.11663603782654, 68.01271772384644, 93.7909836769104]\n",
      "\n",
      "\n",
      "\n",
      "Run No. 1\n",
      "max fitness found is 1293.0 at gen 115 \n",
      "number of cameras is 5\n",
      "[1567, 8979, 2526, 2874, 7223]\n",
      "Iteration 1 took 74.31 seconds\n",
      "\n",
      "Run No. 2\n",
      "max fitness found is 1082.0 at gen 190 \n",
      "number of cameras is 5\n",
      "[1873, 8520, 3232, 7878, 3020]\n",
      "Iteration 2 took 68.33 seconds\n",
      "\n",
      "Run No. 3\n",
      "max fitness found is 996.0 at gen 149 \n",
      "number of cameras is 5\n",
      "[7612, 7281, 2426, 7444, 2479]\n",
      "Iteration 3 took 75.42 seconds\n",
      "\n",
      "Run No. 4\n",
      "max fitness found is 1092.0 at gen 186 \n",
      "number of cameras is 5\n",
      "[2681, 8382, 7814, 1524, 6033]\n",
      "Iteration 4 took 69.97 seconds\n",
      "\n",
      "Run No. 5\n",
      "max fitness found is 1031.0 at gen 143 \n",
      "number of cameras is 5\n",
      "[8479, 1220, 2679, 6339, 7519]\n",
      "Iteration 5 took 74.64 seconds\n",
      "\n",
      "Run No. 6\n",
      "max fitness found is 1067.0 at gen 16 \n",
      "number of cameras is 5\n",
      "[1625, 8151, 7686, 2270, 6607]\n",
      "Iteration 6 took 84.53 seconds\n",
      "\n",
      "Run No. 7\n",
      "max fitness found is 1073.0 at gen 171 \n",
      "number of cameras is 5\n",
      "[2172, 8722, 1418, 7177, 3625]\n",
      "Iteration 7 took 76.43 seconds\n",
      "\n",
      "Run No. 8\n",
      "max fitness found is 1117.0 at gen 126 \n",
      "number of cameras is 5\n",
      "[1578, 4375, 7832, 9174, 2422]\n",
      "Iteration 8 took 93.90 seconds\n",
      "\n",
      "Run No. 9\n",
      "max fitness found is 1217.0 at gen 140 \n",
      "number of cameras is 5\n",
      "[1972, 7681, 2432, 7650, 7301]\n",
      "Iteration 9 took 80.58 seconds\n",
      "\n",
      "Run No. 10\n",
      "max fitness found is 1107.0 at gen 147 \n",
      "number of cameras is 5\n",
      "[2325, 1373, 8474, 7417, 3079]\n",
      "Iteration 10 took 75.60 seconds\n",
      "\n",
      "Run No. 11\n",
      "max fitness found is 840.0 at gen 68 \n",
      "number of cameras is 5\n",
      "[8620, 5941, 2579, 1819, 7875]\n",
      "Iteration 11 took 98.57 seconds\n",
      "\n",
      "Run No. 12\n",
      "max fitness found is 1045.0 at gen 95 \n",
      "number of cameras is 5\n",
      "[631, 4522, 1875, 7178, 8623]\n",
      "Iteration 12 took 96.50 seconds\n",
      "\n",
      "Run No. 13\n",
      "max fitness found is 1091.0 at gen 174 \n",
      "number of cameras is 5\n",
      "[7730, 7878, 2372, 1933, 4218]\n",
      "Iteration 13 took 91.11 seconds\n",
      "\n",
      "Run No. 14\n",
      "max fitness found is 984.0 at gen 85 \n",
      "number of cameras is 5\n",
      "[8876, 2172, 7717, 2228, 3175]\n",
      "Iteration 14 took 88.68 seconds\n",
      "\n",
      "Run No. 15\n",
      "max fitness found is 866.0 at gen 129 \n",
      "number of cameras is 5\n",
      "[2224, 8148, 8103, 2674, 7896]\n",
      "Iteration 15 took 91.94 seconds\n",
      "\n",
      "Instance/NMScotlandFloor5Right_5_cameras.csv\n",
      "[1293.0, 1082.0, 996.0, 1092.0, 1031.0, 1067.0, 1073.0, 1117.0, 1217.0, 1107.0, 840.0, 1045.0, 1091.0, 984.0, 866.0]\n",
      "\n",
      "[115, 190, 149, 186, 143, 16, 171, 126, 140, 147, 68, 95, 174, 85, 129]\n",
      "\n",
      "[5, 5, 5, 5, 5, 5, 5, 5, 5, 5, 5, 5, 5, 5, 5]\n",
      "\n",
      "[74.30579471588135, 68.32726097106934, 75.42274188995361, 69.96722340583801, 74.63639187812805, 84.52527713775635, 76.43018770217896, 93.89878535270691, 80.57842493057251, 75.60162281990051, 98.56722092628479, 96.50336456298828, 91.1111228466034, 88.67564082145691, 91.93742609024048]\n",
      "\n",
      "\n",
      "\n",
      "Run No. 1\n",
      "max fitness found is 1970.0 at gen 170 \n",
      "number of cameras is 5\n",
      "[5221, 1964, 8747, 300, 6779]\n",
      "Iteration 1 took 90.38 seconds\n",
      "\n",
      "Run No. 2\n",
      "max fitness found is 2118.0 at gen 32 \n",
      "number of cameras is 5\n",
      "[8139, 2370, 415, 6823, 7787]\n",
      "Iteration 2 took 89.90 seconds\n",
      "\n",
      "Run No. 3\n",
      "max fitness found is 2144.0 at gen 4 \n",
      "number of cameras is 5\n",
      "[9031, 3964, 7791, 1433, 5022]\n",
      "Iteration 3 took 95.33 seconds\n",
      "\n",
      "Run No. 4\n",
      "max fitness found is 1838.0 at gen 133 \n",
      "number of cameras is 5\n",
      "[223, 5318, 9553, 3173, 6781]\n",
      "Iteration 4 took 91.09 seconds\n",
      "\n",
      "Run No. 5\n",
      "max fitness found is 1990.0 at gen 154 \n",
      "number of cameras is 5\n",
      "[5527, 5924, 1226, 8483, 2780]\n",
      "Iteration 5 took 113.81 seconds\n",
      "\n",
      "Run No. 6\n",
      "max fitness found is 1779.0 at gen 193 \n",
      "number of cameras is 5\n",
      "[9051, 3779, 7484, 6118, 1634]\n",
      "Iteration 6 took 100.78 seconds\n",
      "\n",
      "Run No. 7\n",
      "max fitness found is 2160.0 at gen 190 \n",
      "number of cameras is 5\n",
      "[1642, 4977, 5818, 6115, 8266]\n",
      "Iteration 7 took 79.96 seconds\n",
      "\n",
      "Run No. 8\n",
      "max fitness found is 1953.0 at gen 55 \n",
      "number of cameras is 5\n",
      "[830, 6993, 3372, 5818, 8652]\n",
      "Iteration 8 took 86.99 seconds\n",
      "\n",
      "time: 1h 13min 23s (started: 2023-12-07 07:41:49 +00:00)\n"
     ]
    },
    {
     "name": "stderr",
     "output_type": "stream",
     "text": [
      "\n",
      "KeyboardInterrupt\n",
      "\n"
     ]
    }
   ],
   "source": [
    "max_fitness_list_total = list()\n",
    "gen_number_list_total = list()\n",
    "num_cameras_list_total = list()\n",
    "iteration_time_list_total = list()\n",
    "\n",
    "for path in pathList:\n",
    "    try:\n",
    "        fitness_cache = {}\n",
    "        myinst = path\n",
    "        instance_file = myinst\n",
    "        \n",
    "        \n",
    "        \n",
    "        num_cells = instance_size*instance_size\n",
    "        \n",
    "        walls = np.zeros(instance_size*instance_size)\n",
    "        walls = openfile(walls)\n",
    "        n_iterations  = 15\n",
    "        max_fitness_list, gen_number_list, num_cameras_list, iteration_time_list = runs(n_iterations)\n",
    "    \n",
    "        max_fitness_list_total.append(max_fitness_list)\n",
    "        gen_number_list_total.append(gen_number_list)\n",
    "        num_cameras_list_total.append(num_cameras_list)\n",
    "        iteration_time_list_total.append(iteration_time_list)\n",
    "    \n",
    "        print(myinst)\n",
    "        print(max_fitness_list, gen_number_list, num_cameras_list, iteration_time_list, sep=\"\\n\\n\", end=\"\\n\\n\\n\\n\")\n",
    "    \n",
    "    except:\n",
    "        freq=100\n",
    "        dur=2000\n",
    "        winsound.Beep(freq,dur)"
   ]
  },
  {
   "cell_type": "code",
   "execution_count": null,
   "id": "c997400e-3707-48cf-8a4c-5b014e1ca49a",
   "metadata": {},
   "outputs": [],
   "source": [
    "num_cameras_list"
   ]
  },
  {
   "cell_type": "code",
   "execution_count": null,
   "id": "ccc5671a-2573-4303-9718-7a2deb2dfedb",
   "metadata": {},
   "outputs": [],
   "source": [
    "print(max_fitness_list_total)"
   ]
  },
  {
   "cell_type": "code",
   "execution_count": null,
   "id": "47a40e06-e08a-4205-8680-2d7cba5e9421",
   "metadata": {},
   "outputs": [],
   "source": [
    "print(iteration_time_list_total)"
   ]
  },
  {
   "cell_type": "code",
   "execution_count": null,
   "id": "9d15226e-ae96-4f44-acb0-5fa33331f203",
   "metadata": {},
   "outputs": [],
   "source": [
    "for i in iteration_time_list_total:\n",
    "    print(np.median(i))"
   ]
  },
  {
   "cell_type": "code",
   "execution_count": null,
   "id": "747cf78c-6b53-4cb7-a8cd-025a0aa72325",
   "metadata": {
    "scrolled": true
   },
   "outputs": [],
   "source": [
    "max_fitness_list_total, gen_number_list_total, num_cameras_list_total, iteration_time_list_total"
   ]
  },
  {
   "cell_type": "code",
   "execution_count": null,
   "id": "640fcf71-cefe-405a-9ea7-7b2ec229894a",
   "metadata": {},
   "outputs": [],
   "source": [
    "import winsound\n",
    "freq=500\n",
    "dur=1000\n",
    "winsound.Beep(freq,dur)"
   ]
  },
  {
   "cell_type": "code",
   "execution_count": null,
   "id": "8a8090dc-96c4-460c-b45b-eff07d2aa5c4",
   "metadata": {},
   "outputs": [],
   "source": [
    "len(max_fitness_list_total)"
   ]
  },
  {
   "cell_type": "code",
   "execution_count": null,
   "id": "6ca0ec74-b605-4344-babf-84f9fd99f270",
   "metadata": {},
   "outputs": [],
   "source": [
    "import seaborn as sns\n",
    "import matplotlib.pyplot as plt\n",
    "import numpy as np\n",
    "from matplotlib.patches import Patch"
   ]
  },
  {
   "cell_type": "code",
   "execution_count": null,
   "id": "46ea690c-021e-4983-a403-1395e81546a5",
   "metadata": {},
   "outputs": [],
   "source": [
    "labels = [\"MerchistonD\", \"NMScotlandFloor5Left\", \n",
    "          \"NMScotlandFloor5Right\", \"Wallstest1\", \n",
    "          \"Wallstest2\"]"
   ]
  },
  {
   "cell_type": "code",
   "execution_count": null,
   "id": "a3eb165e-803b-4ca9-9cca-9d8164cc09c2",
   "metadata": {},
   "outputs": [],
   "source": [
    "# Create a custom color palette\n",
    "custom_palette = sns.color_palette(\"Set1\", n_colors=5)  # Adjust the number of colors as needed\n",
    "\n",
    "fig, axs = plt.subplots(2, 2)\n",
    "\n",
    "# Section 1\n",
    "sns.boxplot(data=max_fitness_list_total, ax=axs[0, 0], palette=custom_palette).set_title('Best Fitness')\n",
    "\n",
    "# Section 2\n",
    "sns.boxplot(data=gen_number_list_total, ax=axs[0, 1], palette=custom_palette).set_title('NGS')\n",
    "\n",
    "# Section 3\n",
    "sns.boxplot(data=num_cameras_list_total, ax=axs[1, 0], palette=custom_palette).set_title('Number of Cameras')\n",
    "\n",
    "# Section 4\n",
    "sns.boxplot(data=iteration_time_list_total, ax=axs[1, 1], palette=custom_palette).set_title('Time Consumed')\n",
    "\n",
    "# Create custom legend handles with colors\n",
    "legend_handles = [Patch(color=color, label=label) for color, label in zip(custom_palette, labels)]\n",
    "\n",
    "# Add legend with custom handles\n",
    "fig.legend(handles=legend_handles, title='Box Labels', loc='upper right', bbox_to_anchor=(1.35, 0.9))\n",
    "\n",
    "plt.tight_layout()\n",
    "\n",
    "fig.suptitle('CW_v4_randomSample.ipynb', y=1.05)\n",
    "\n",
    "plt.show()"
   ]
  },
  {
   "cell_type": "code",
   "execution_count": null,
   "id": "4c907363-013c-4380-91f1-73b50a3f9224",
   "metadata": {},
   "outputs": [],
   "source": [
    "import math\n",
    "\n",
    "print(\"Median\")\n",
    "for i, v in enumerate(labels):\n",
    "    print(\"\"\"{}\n",
    "    Best Fitness: {}\n",
    "    Number of Generations to find Best Fitness: {}\n",
    "    Number of cameras: {}\n",
    "    Time Consumed: {}\n",
    "\n",
    "\n",
    "    \n",
    "    \"\"\".format(\n",
    "        v,\n",
    "        np.median(max_fitness_list_total[i]),\n",
    "        np.median(gen_number_list_total[i]),\n",
    "        np.median(num_cameras_list_total[i]),\n",
    "        math.ceil(np.median(iteration_time_list_total[i]))\n",
    "        )\n",
    "    )"
   ]
  },
  {
   "cell_type": "code",
   "execution_count": null,
   "id": "66e2ba44-e5cc-4bea-988f-7d268c37de55",
   "metadata": {},
   "outputs": [],
   "source": []
  }
 ],
 "metadata": {
  "kernelspec": {
   "display_name": "Python 3 (ipykernel)",
   "language": "python",
   "name": "python3"
  },
  "language_info": {
   "codemirror_mode": {
    "name": "ipython",
    "version": 3
   },
   "file_extension": ".py",
   "mimetype": "text/x-python",
   "name": "python",
   "nbconvert_exporter": "python",
   "pygments_lexer": "ipython3",
   "version": "3.11.3"
  }
 },
 "nbformat": 4,
 "nbformat_minor": 5
}
