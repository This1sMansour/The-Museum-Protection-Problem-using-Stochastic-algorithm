{
 "cells": [
  {
   "cell_type": "markdown",
   "metadata": {},
   "source": [
    "# Coursework: The Museum Protection Problem"
   ]
  },
  {
   "cell_type": "code",
   "execution_count": 2,
   "metadata": {},
   "outputs": [
    {
     "name": "stdout",
     "output_type": "stream",
     "text": [
      "time: 0 ns (started: 2023-12-04 01:25:59 +00:00)\n"
     ]
    }
   ],
   "source": [
    "%load_ext autotime"
   ]
  },
  {
   "cell_type": "markdown",
   "metadata": {},
   "source": [
    "## Import relevant libraries"
   ]
  },
  {
   "cell_type": "code",
   "execution_count": 3,
   "metadata": {},
   "outputs": [
    {
     "name": "stdout",
     "output_type": "stream",
     "text": [
      "time: 1.52 s (started: 2023-12-04 01:25:59 +00:00)\n"
     ]
    }
   ],
   "source": [
    "import numpy as np\n",
    "import subprocess\n",
    "import os\n",
    "import pandas as pd\n",
    "import matplotlib.pyplot as plt\n",
    "import random\n",
    "import array\n",
    "import csv\n",
    "\n",
    "\n",
    "# import deap packages required\n",
    "from deap import algorithms\n",
    "from deap import base\n",
    "from deap import creator\n",
    "from deap import tools"
   ]
  },
  {
   "cell_type": "markdown",
   "metadata": {},
   "source": [
    "## Set up  \n",
    "\n",
    "Depending on the instance you are trying to solve, sest the following parameters\n"
   ]
  },
  {
   "cell_type": "code",
   "execution_count": 4,
   "metadata": {},
   "outputs": [
    {
     "name": "stdout",
     "output_type": "stream",
     "text": [
      "time: 0 ns (started: 2023-12-04 01:26:01 +00:00)\n"
     ]
    }
   ],
   "source": [
    "# Windows and Mac: just set the path to the instance\n",
    "myinst=\"Instance/MerchistonD._5_cameras.csv\"\n",
    "instance_file = myinst  # the name of the file specifying the layout - use \"\" to represent an empty grid to an empty grid\n",
    "\n",
    "nb_cameras = 5 # number of cameras (specificed in the instance definition)\n",
    "instance_size  = 100 # number of cells per dimension, i.e total number of cells in the grid is instance_size*instance_size\n",
    "\n",
    "num_cells = instance_size*instance_size # total number of cells in the grid\n",
    "\n"
   ]
  },
  {
   "cell_type": "code",
   "execution_count": 5,
   "metadata": {},
   "outputs": [
    {
     "name": "stdout",
     "output_type": "stream",
     "text": [
      "time: 78 ms (started: 2023-12-04 01:26:01 +00:00)\n"
     ]
    }
   ],
   "source": [
    "# create a grid that specifies the walls that can be used later to check that no cameras are positioned on walls\n",
    "walls = np.zeros(instance_size*instance_size)\n",
    "\n",
    "\n",
    "with open(myinst) as csv_file:\n",
    "    csv_reader = csv.reader(csv_file, delimiter=',')\n",
    "    for line in csv_reader:\n",
    "        column=int(line[0])\n",
    "        row=int(line[1])\n",
    "        oneD_index = (row * instance_size) + column;\n",
    "        walls[oneD_index]=1\n",
    "        \n"
   ]
  },
  {
   "cell_type": "markdown",
   "metadata": {},
   "source": [
    "## Set up the fitness calculations \n",
    "\n",
    "This calls an external executable to return a fitness value. You cannot modify the code in this executable. \n",
    "\n",
    "\n",
    "1. If you are running code using **Google Colab**, you neyou must upload the executables called \"bit_cam_napier_colab\"  and \"bit_cam_napier_visualisation_colab\" to Colab and uncomment the line of code at tge top of the next cell\n",
    "\n",
    "2. If you are running on **Windows using Anaconda**, then your code needs to call the executables \"bit_cam_napier_windows.exe\" and \"bit_cam_napier_visualisation_windows.exe\" - you need to specify the exact path to these on your system in the code below\n",
    "\n",
    "3. If you are running on **Mac using Anaconda**, then your code needs to call the executables \"bit_cam_napier_mac.exe\" and \"bit_cam_napier_visualisation_mac.exe\" - you need to specify the exact path to these on your system in the code below\n",
    "\n",
    "The call to the external function is wrapped inside an evaluation function called **eval_function()** .. this has the standard form used by DEAP and should be registered with the toolbox as usual. Read the following carefully.    You can any code you wish inside this function but it must always call the external *objective_function()* with a valid solution. This is defined below\n",
    "\n",
    "\n",
    " - The external \"objective_function\" needs to be passed a list of length (where n is the number of cells) where each value is 0 or 1.\n",
    "- There must be exactly c values set to 1, where c= number of cameras\n",
    "- Regardless of the representation you use, **you must turn a DEAP individual into a list of the form specified above** before calling the objective_function\n",
    "\n",
    "\n",
    "**WARNING!!! You should only call the *objective_function* with a list that has exactly *c* bits set to 1**\n",
    "\n",
    "If this is not the case, then you should assign a fitness value to the individual without calling the external  *objective_function*. You can choose how to set this - the fitness you assign should reflect the fact that the solution is invalid.  For a valid solution, the worst possible fitness is equal to *num_cells*, i.e. no cell is covered. Therefore, the fitness you choose to assign to an invalid solution should be worse than this value"
   ]
  },
  {
   "cell_type": "code",
   "execution_count": 6,
   "metadata": {},
   "outputs": [
    {
     "name": "stdout",
     "output_type": "stream",
     "text": [
      "time: 0 ns (started: 2023-12-04 01:26:01 +00:00)\n"
     ]
    }
   ],
   "source": [
    "\n",
    "# set the correct binary depending on your machine/setup - you need to choose one of the options below and set the path correctly\n",
    "\n",
    "# On Windows: change the following to the location of the binary on your system\n",
    "path_binary = \"CourseworkExecutables/bit_cam_napier_windows.exe\"\n",
    "path_binary_vis = \"CourseworkExecutables/bit_cam_napier_visualisation_windows.exe\"\n",
    "\n",
    "# Do NOT modify this code - this calls an external binary with a solution\n",
    "def objective_function(x, instance_size, nb_cameras, instance_file):\n",
    "    params = ['%.16g' % a for a in x]\n",
    "    cmd = [path_binary,str(instance_size),str(nb_cameras)]+params+[instance_file]\n",
    "    s = subprocess.check_output(cmd)\n",
    "    return float(s)\n",
    "\n",
    "\n",
    "# Do NOT modify: this checks whether a camera is positioned on top of wall in a solution\n",
    "def check_walls(solution, inst):\n",
    "    clashes=0\n",
    "    for i in range(0, len(solution)):\n",
    "        if (walls[i] == 1 and solution[i]==1):\n",
    "            clashes+=1\n",
    "            \n",
    "    return(clashes)\n",
    "        \n"
   ]
  },
  {
   "cell_type": "code",
   "execution_count": 7,
   "metadata": {},
   "outputs": [
    {
     "name": "stdout",
     "output_type": "stream",
     "text": [
      "time: 0 ns (started: 2023-12-04 01:26:01 +00:00)\n"
     ]
    }
   ],
   "source": [
    "# get the camera location (individual = location of cameras)\n",
    "# change to bitstring in the size of num_cells\n",
    "\n",
    "def convert_individual_bitstring(individual):\n",
    "    converted_individual = np.zeros(num_cells)\n",
    "    for i in range(len(individual)):\n",
    "        converted_individual[individual[i]] = 1\n",
    "    return converted_individual\n"
   ]
  },
  {
   "cell_type": "code",
   "execution_count": 8,
   "metadata": {},
   "outputs": [
    {
     "name": "stdout",
     "output_type": "stream",
     "text": [
      "time: 0 ns (started: 2023-12-04 01:26:01 +00:00)\n"
     ]
    }
   ],
   "source": [
    "# this is the eval function called from DEAP: you can modify this to adapt the fitness for invalid solutions. The fitness of a valid solution\n",
    "# is obtained by calling the binary executable\n",
    "\n",
    "# This is the function where you will likely do most work!\n",
    "\n",
    "def eval_function(individual):\n",
    "    solution=np.zeros(num_cells)\n",
    "    solution = convert_individual_bitstring(individual)\n",
    "  # The fitness function needs to be passed a list of length (where n is the number of cells) where each value is 0 or 1. You must first convert\n",
    "  # the individual passed to this function (a class) to a list\n",
    "\n",
    "  # This code assumes your representation of an individual contains a list of 0,1s and is of length num_cells\n",
    "  # If you have used another representation, you must write your own code to convert it to the form above\n",
    "    \n",
    "    # for i in range(0, len(individual)):\n",
    "    #     solution.append(individual[i])\n",
    "\n",
    "  # check how many cameras in the solution - if it does not equal nb_cameras the solution is *invalid*\n",
    "  # if there are cameras placed on a wall, the solution is also invalid\n",
    "  # if the solution is invalid, you must decide what fitness to assign - do *not* call the objective_function\n",
    "\n",
    "    total_cameras = np.sum(solution)\n",
    "    \n",
    "    \n",
    "    if instance_file == \"\":\n",
    "        cameras_on_walls = 0\n",
    "    else:\n",
    "        cameras_on_walls = check_walls(solution, instance_file) \n",
    "                \n",
    "                                        \n",
    "# you will need to modify this code before you can run it\n",
    "    if  total_cameras > nb_cameras: # you decide!!!!\n",
    "        fitness = num_cells * 2 * (total_cameras - nb_cameras)\n",
    "    elif total_cameras < nb_cameras: # you decide!!\n",
    "        fitness = num_cells * 2 * (nb_cameras - total_cameras) \n",
    "    elif cameras_on_walls > 0: # you decide!\n",
    "        fitness = num_cells * cameras_on_walls\n",
    "    else:\n",
    "        # only call this if the solution contains exactly nb_cameras and no cameras on walls,\n",
    "        fitness = objective_function(solution, instance_size, nb_cameras, instance_file)\n",
    " \n",
    "    return fitness,"
   ]
  },
  {
   "cell_type": "markdown",
   "metadata": {},
   "source": [
    "## Set up the DEAP toolbox\n",
    "\n",
    "This sets up a  very basic EA. It uses standard operators to manipulate a list of 0,1s.  You can change these operators for others from the DEAP toolbox or write your own"
   ]
  },
  {
   "cell_type": "code",
   "execution_count": 9,
   "metadata": {},
   "outputs": [
    {
     "name": "stdout",
     "output_type": "stream",
     "text": [
      "time: 16 ms (started: 2023-12-04 01:26:01 +00:00)\n"
     ]
    }
   ],
   "source": [
    "# def generate_individual(nb_cameras, num_cells):\n",
    "#     individual = [0] * num_cells\n",
    "#     indices = random.sample(range(num_cells), nb_cameras)\n",
    "#     for index in indices:\n",
    "#         individual[index] = 1\n",
    "#     return individual\n",
    "\n",
    "# def generate_individual(nb_cameras):\n",
    "#     individual = [0] * num_cells\n",
    "#     indices = random.sample(range(num_cells), nb_cameras)\n",
    "#     for index in indices:\n",
    "#         individual[index] = 1\n",
    "#     return individual\n",
    "\n"
   ]
  },
  {
   "cell_type": "code",
   "execution_count": 10,
   "metadata": {},
   "outputs": [
    {
     "name": "stdout",
     "output_type": "stream",
     "text": [
      "time: 0 ns (started: 2023-12-04 01:26:01 +00:00)\n"
     ]
    }
   ],
   "source": [
    "# define the fitness class and creare an individual class - set up as a minimisation problem\n",
    "\n",
    "creator.create(\"FitnessMin\", base.Fitness, weights=(-1.0,))\n",
    "creator.create(\"Individual\", list, fitness=creator.FitnessMin)\n",
    "\n",
    "# create a toolbox\n",
    "toolbox = base.Toolbox()"
   ]
  },
  {
   "cell_type": "code",
   "execution_count": 11,
   "metadata": {},
   "outputs": [
    {
     "name": "stdout",
     "output_type": "stream",
     "text": [
      "time: 0 ns (started: 2023-12-04 01:26:02 +00:00)\n"
     ]
    }
   ],
   "source": [
    "# Define an individual as a list with each value set to 0 or 1, of length num_cells\n",
    "# Attribute generator\n",
    "# # # # # # # # # # # \n",
    "# toolbox.register(\"attr_bool\", random.randint, 0, 1)\n",
    "\n",
    "# toolbox.register(\"attr_bool\", random.randint, 0, 1)\n",
    "toolbox.register(\"attr_int\", random.randint, 0, (num_cells)) # individual keeps the indexes of cameras \n",
    "##### attribute are the genes \n",
    "# toolbox.register(\"attr_int\", custome_attributeGenerator, 0, (num_cells))\n",
    "# Change the registration of individual\n",
    "# toolbox.register(\"individual\", tools.initRepeat, creator.Individual, toolbox.attr_bool, nb_cameras)\n",
    "# toolbox.register(\"individual\", tools.initIterate, creator.Individual, generate_individual, nb_cameras, num_cells=num_cells)\n",
    "# toolbox.register(\"individual\", tools.initIterate, creator.Individual, generate_individual, nb_cameras=nb_cameras)\n",
    "# toolbox.register(\"individual\", tools.initIterate, creator.Individual, lambda: generate_individual(nb_cameras), num_cells=num_cells)\n",
    "# toolbox.register(\"individual\", tools.initRepeat, creator.Individual, generate_individual(nb_cameras))\n",
    "toolbox.register(\"individual\", tools.initRepeat, creator.Individual, toolbox.attr_int, nb_cameras)"
   ]
  },
  {
   "cell_type": "code",
   "execution_count": 12,
   "metadata": {},
   "outputs": [
    {
     "name": "stdout",
     "output_type": "stream",
     "text": [
      "time: 0 ns (started: 2023-12-04 01:26:02 +00:00)\n"
     ]
    }
   ],
   "source": [
    "#  a population consist of a list of individuals\n",
    "toolbox.register(\"population\", tools.initRepeat, list, toolbox.individual)\n",
    "\n",
    "\n",
    "# register all operators we need with the toolbox\n",
    "toolbox.register(\"evaluate\", eval_function)\n",
    "toolbox.register(\"mate\", tools.cxOnePoint)\n",
    "toolbox.register(\"mutate\", tools.mutFlipBit, indpb=0.05)\n",
    "toolbox.register(\"select\", tools.selTournament, tournsize=2)"
   ]
  },
  {
   "cell_type": "code",
   "execution_count": 13,
   "metadata": {},
   "outputs": [
    {
     "name": "stdout",
     "output_type": "stream",
     "text": [
      "time: 0 ns (started: 2023-12-04 01:26:02 +00:00)\n"
     ]
    }
   ],
   "source": [
    "# main function - this just uses a simple EA - you can modify as you wish, including xhanging the parameters\n",
    "\n",
    "# choose these parameters yourself!\n",
    "ngen = 200\n",
    "popsize = 50\n",
    "\n",
    "def main():\n",
    "\n",
    "    # choose a population size: e.g. 50\n",
    "    pop = toolbox.population(n=popsize)\n",
    "\n",
    "    # keep track of the single best solution found\n",
    "    hof = tools.HallOfFame(1)\n",
    "\n",
    "    # create a statistics object: we can log what ever statistics we want using this. We use the numpy Python library\n",
    "    # to calculate the stats and label them with convenient labels\n",
    "    stats = tools.Statistics(lambda ind: ind.fitness.values)\n",
    "    stats.register(\"avg\", np.mean)\n",
    "    stats.register(\"std\", np.std)\n",
    "    stats.register(\"min\", np.min)\n",
    "    stats.register(\"max\", np.max)\n",
    "\n",
    "    # run the algorithm: we need to tell it what parameters to use\n",
    "    # cxpb = crossover probability; mutpb = mutation probability; ngen = number of iterations\n",
    "    pop, log = algorithms.eaSimple(pop, toolbox, cxpb=1.0, mutpb=0.05, ngen=ngen,\n",
    "                                   stats=stats, halloffame=hof, verbose=False)\n",
    "\n",
    "    return pop, log, hof"
   ]
  },
  {
   "cell_type": "markdown",
   "metadata": {},
   "source": [
    "# Experimenting\n",
    "\n",
    "This runs the basic EA once. You can adapt this to run repeated expts. etc."
   ]
  },
  {
   "cell_type": "code",
   "execution_count": 14,
   "metadata": {},
   "outputs": [
    {
     "name": "stdout",
     "output_type": "stream",
     "text": [
      "max fitness found is 2622.0 at gen 9 \n",
      "time: 7min 4s (started: 2023-12-04 01:26:04 +00:00)\n"
     ]
    }
   ],
   "source": [
    "\n",
    "##############################\n",
    "# run the main function\n",
    "pop, log, hof = main()\n",
    "\n",
    "##############################\n",
    "\n",
    "\n",
    "best = hof[0].fitness.values[0]   # best fitness found is stored at index 0 in the hof list\n",
    "\n",
    "\n",
    "# look in the logbook to see what generation this was found at\n",
    "\n",
    "min = log.select(\"min\")  # min fitness per generation stored in log\n",
    "\n",
    "for i in range(ngen):  # set to ngen\n",
    "        fit = min[i]\n",
    "        if fit == best:\n",
    "            break\n",
    "\n",
    "print(\"max fitness found is %s at gen %s \" % (best, i))\n",
    "# print(\"number of cameras is %s\" % (np.sum(hof[0])))\n",
    "\n",
    "\n"
   ]
  },
  {
   "cell_type": "code",
   "execution_count": 15,
   "metadata": {},
   "outputs": [
    {
     "name": "stdout",
     "output_type": "stream",
     "text": [
      "number of cameras is 5\n",
      "time: 0 ns (started: 2023-12-04 01:33:08 +00:00)\n"
     ]
    }
   ],
   "source": [
    "print(\"number of cameras is %s\" % (len(hof[0])))"
   ]
  },
  {
   "cell_type": "markdown",
   "metadata": {},
   "source": [
    "## Recording Data"
   ]
  },
  {
   "cell_type": "code",
   "execution_count": 14,
   "metadata": {},
   "outputs": [
    {
     "name": "stdout",
     "output_type": "stream",
     "text": [
      "time: 0 ns (started: 2023-12-03 22:47:20 +00:00)\n"
     ]
    }
   ],
   "source": [
    "import time\n",
    "import gc\n",
    "\n",
    "\n",
    "def runs(n):\n",
    "    max_fitness_list = []\n",
    "    gen_number_list = []\n",
    "    num_cameras_list = []\n",
    "    iteration_time_list = []\n",
    "\n",
    "    for iteration in range(n):\n",
    "        start_time = time.time()\n",
    "        \n",
    "        pop, log, hof = main()\n",
    "\n",
    "        best = hof[0].fitness.values[0]   # best fitness found is stored at index 0 in the hof list\n",
    "        min_fitness_per_gen = log.select(\"min\")  # min fitness per generation stored in log\n",
    "\n",
    "        for i in range(ngen):  # set to ngen\n",
    "            fit = min_fitness_per_gen[i]\n",
    "            if fit == best:\n",
    "                break\n",
    "\n",
    "        end_time = time.time()\n",
    "        iteration_time = end_time - start_time\n",
    "\n",
    "        max_fitness_list.append(best)\n",
    "        gen_number_list.append(i)\n",
    "        num_cameras_list.append(np.sum(hof[0]))\n",
    "        iteration_time_list.append(iteration_time)\n",
    "\n",
    "        print(\"Run No.\", iteration + 1)\n",
    "        print(\"max fitness found is %s at gen %s \" % (best, i))\n",
    "        print(\"number of cameras is %s\" % (np.sum(hof[0])))\n",
    "        print(f\"Iteration {iteration + 1} took {iteration_time:.2f} seconds\")\n",
    "        print()\n",
    "\n",
    "    return max_fitness_list, gen_number_list, num_cameras_list, iteration_time_list\n"
   ]
  },
  {
   "cell_type": "code",
   "execution_count": 15,
   "metadata": {},
   "outputs": [
    {
     "name": "stdout",
     "output_type": "stream",
     "text": [
      "Run No. 1\n",
      "max fitness found is 2977.0 at gen 3 \n",
      "number of cameras is 24200\n",
      "Iteration 1 took 379.46 seconds\n",
      "\n",
      "Run No. 2\n",
      "max fitness found is 2553.0 at gen 8 \n",
      "number of cameras is 27247\n",
      "Iteration 2 took 401.80 seconds\n",
      "\n",
      "Run No. 3\n",
      "max fitness found is 2433.0 at gen 6 \n",
      "number of cameras is 26629\n",
      "Iteration 3 took 411.71 seconds\n",
      "\n",
      "Run No. 4\n",
      "max fitness found is 2843.0 at gen 2 \n",
      "number of cameras is 28250\n",
      "Iteration 4 took 404.97 seconds\n",
      "\n",
      "Run No. 5\n",
      "max fitness found is 2590.0 at gen 7 \n",
      "number of cameras is 21829\n",
      "Iteration 5 took 429.73 seconds\n",
      "\n",
      "Run No. 6\n",
      "max fitness found is 2899.0 at gen 2 \n",
      "number of cameras is 25787\n",
      "Iteration 6 took 408.28 seconds\n",
      "\n",
      "Run No. 7\n",
      "max fitness found is 2340.0 at gen 9 \n",
      "number of cameras is 22713\n",
      "Iteration 7 took 398.65 seconds\n",
      "\n",
      "Run No. 8\n",
      "max fitness found is 2448.0 at gen 14 \n",
      "number of cameras is 24468\n",
      "Iteration 8 took 430.20 seconds\n",
      "\n",
      "Run No. 9\n",
      "max fitness found is 2434.0 at gen 3 \n",
      "number of cameras is 24676\n",
      "Iteration 9 took 440.42 seconds\n",
      "\n",
      "Run No. 10\n",
      "max fitness found is 2753.0 at gen 12 \n",
      "number of cameras is 23122\n",
      "Iteration 10 took 398.61 seconds\n",
      "\n",
      "Run No. 11\n",
      "max fitness found is 2932.0 at gen 6 \n",
      "number of cameras is 23870\n",
      "Iteration 11 took 367.65 seconds\n",
      "\n",
      "Run No. 12\n",
      "max fitness found is 2692.0 at gen 9 \n",
      "number of cameras is 26563\n",
      "Iteration 12 took 385.69 seconds\n",
      "\n",
      "Run No. 13\n",
      "max fitness found is 2530.0 at gen 13 \n",
      "number of cameras is 23289\n",
      "Iteration 13 took 390.83 seconds\n",
      "\n",
      "Run No. 14\n",
      "max fitness found is 2517.0 at gen 9 \n",
      "number of cameras is 25250\n",
      "Iteration 14 took 383.00 seconds\n",
      "\n",
      "Run No. 15\n",
      "max fitness found is 2678.0 at gen 9 \n",
      "number of cameras is 27528\n",
      "Iteration 15 took 354.03 seconds\n",
      "\n",
      "time: 1h 39min 45s (started: 2023-12-03 22:47:20 +00:00)\n"
     ]
    }
   ],
   "source": [
    "n_iterations  = 15\n",
    "max_fitness_list, gen_number_list, num_cameras_list, iteration_time_list = runs(n_iterations)\n"
   ]
  },
  {
   "cell_type": "code",
   "execution_count": 16,
   "metadata": {},
   "outputs": [
    {
     "name": "stdout",
     "output_type": "stream",
     "text": [
      "[2977.0, 2553.0, 2433.0, 2843.0, 2590.0, 2899.0, 2340.0, 2448.0, 2434.0, 2753.0, 2932.0, 2692.0, 2530.0, 2517.0, 2678.0]\n",
      "\n",
      "[3, 8, 6, 2, 7, 2, 9, 14, 3, 12, 6, 9, 13, 9, 9]\n",
      "\n",
      "[24200, 27247, 26629, 28250, 21829, 25787, 22713, 24468, 24676, 23122, 23870, 26563, 23289, 25250, 27528]\n",
      "\n",
      "[379.4641008377075, 401.7987632751465, 411.70681142807007, 404.9728169441223, 429.72613763809204, 408.2847259044647, 398.6521496772766, 430.20423340797424, 440.42334485054016, 398.6074728965759, 367.65107560157776, 385.6883842945099, 390.8323247432709, 382.9966130256653, 354.0323646068573]\n",
      "time: 0 ns (started: 2023-12-04 00:27:05 +00:00)\n"
     ]
    }
   ],
   "source": [
    "print(max_fitness_list, gen_number_list, num_cameras_list, iteration_time_list, sep=\"\\n\\n\")"
   ]
  },
  {
   "cell_type": "code",
   "execution_count": 17,
   "metadata": {},
   "outputs": [
    {
     "name": "stdout",
     "output_type": "stream",
     "text": [
      "time: 532 ms (started: 2023-12-04 00:27:05 +00:00)\n"
     ]
    }
   ],
   "source": [
    "import winsound\n",
    "freq=1000\n",
    "dur=500\n",
    "winsound.Beep(freq,dur)"
   ]
  },
  {
   "cell_type": "code",
   "execution_count": null,
   "metadata": {},
   "outputs": [],
   "source": []
  },
  {
   "cell_type": "code",
   "execution_count": 16,
   "metadata": {},
   "outputs": [
    {
     "name": "stdout",
     "output_type": "stream",
     "text": [
      "number of cameras is 5\n",
      "time: 16 ms (started: 2023-12-04 01:35:22 +00:00)\n"
     ]
    }
   ],
   "source": [
    "print(\"number of cameras is %s\" % (len(hof[0])))"
   ]
  },
  {
   "cell_type": "code",
   "execution_count": 17,
   "metadata": {},
   "outputs": [
    {
     "name": "stdout",
     "output_type": "stream",
     "text": [
      "[6308, 8549, 1981, 4789, 2132]\n",
      "time: 0 ns (started: 2023-12-04 01:35:23 +00:00)\n"
     ]
    }
   ],
   "source": [
    "print(hof[0])"
   ]
  },
  {
   "cell_type": "code",
   "execution_count": 18,
   "metadata": {
    "scrolled": true
   },
   "outputs": [
    {
     "data": {
      "text/plain": [
       "[3068.0,\n",
       " 3515.0,\n",
       " 3124.0,\n",
       " 2700.0,\n",
       " 3124.0,\n",
       " 2772.0,\n",
       " 2700.0,\n",
       " 2700.0,\n",
       " 2700.0,\n",
       " 2622.0,\n",
       " 2622.0,\n",
       " 2622.0,\n",
       " 2622.0,\n",
       " 2622.0,\n",
       " 2622.0,\n",
       " 2622.0,\n",
       " 2622.0,\n",
       " 2622.0,\n",
       " 2622.0,\n",
       " 2622.0,\n",
       " 2622.0,\n",
       " 2622.0,\n",
       " 2622.0,\n",
       " 2622.0,\n",
       " 2622.0,\n",
       " 2622.0,\n",
       " 2622.0,\n",
       " 2622.0,\n",
       " 2622.0,\n",
       " 2622.0,\n",
       " 2622.0,\n",
       " 2622.0,\n",
       " 2622.0,\n",
       " 2622.0,\n",
       " 2622.0,\n",
       " 2622.0,\n",
       " 2622.0,\n",
       " 2622.0,\n",
       " 2622.0,\n",
       " 2622.0,\n",
       " 2622.0,\n",
       " 2622.0,\n",
       " 2622.0,\n",
       " 2622.0,\n",
       " 2622.0,\n",
       " 2622.0,\n",
       " 2622.0,\n",
       " 2622.0,\n",
       " 2622.0,\n",
       " 2622.0,\n",
       " 2622.0,\n",
       " 2622.0,\n",
       " 2622.0,\n",
       " 2622.0,\n",
       " 2622.0,\n",
       " 2622.0,\n",
       " 2622.0,\n",
       " 2622.0,\n",
       " 2622.0,\n",
       " 2622.0,\n",
       " 2622.0,\n",
       " 2622.0,\n",
       " 2622.0,\n",
       " 2622.0,\n",
       " 2622.0,\n",
       " 2622.0,\n",
       " 2622.0,\n",
       " 2622.0,\n",
       " 2622.0,\n",
       " 2622.0,\n",
       " 2622.0,\n",
       " 2622.0,\n",
       " 2622.0,\n",
       " 2622.0,\n",
       " 2622.0,\n",
       " 2622.0,\n",
       " 2622.0,\n",
       " 2622.0,\n",
       " 2622.0,\n",
       " 2622.0,\n",
       " 2622.0,\n",
       " 2622.0,\n",
       " 2622.0,\n",
       " 2622.0,\n",
       " 2622.0,\n",
       " 2622.0,\n",
       " 2622.0,\n",
       " 2622.0,\n",
       " 2622.0,\n",
       " 2622.0,\n",
       " 2622.0,\n",
       " 2622.0,\n",
       " 2622.0,\n",
       " 2622.0,\n",
       " 2622.0,\n",
       " 2622.0,\n",
       " 2622.0,\n",
       " 2622.0,\n",
       " 2622.0,\n",
       " 2622.0,\n",
       " 2622.0,\n",
       " 2622.0,\n",
       " 2622.0,\n",
       " 2622.0,\n",
       " 2622.0,\n",
       " 2622.0,\n",
       " 2622.0,\n",
       " 2622.0,\n",
       " 2622.0,\n",
       " 2622.0,\n",
       " 2622.0,\n",
       " 2622.0,\n",
       " 2622.0,\n",
       " 2622.0,\n",
       " 2622.0,\n",
       " 2622.0,\n",
       " 2622.0,\n",
       " 2622.0,\n",
       " 2622.0,\n",
       " 2622.0,\n",
       " 2622.0,\n",
       " 2622.0,\n",
       " 2622.0,\n",
       " 2622.0,\n",
       " 2622.0,\n",
       " 2622.0,\n",
       " 2622.0,\n",
       " 2622.0,\n",
       " 2622.0,\n",
       " 2622.0,\n",
       " 2622.0,\n",
       " 2622.0,\n",
       " 2622.0,\n",
       " 2622.0,\n",
       " 2622.0,\n",
       " 2622.0,\n",
       " 2622.0,\n",
       " 2622.0,\n",
       " 2622.0,\n",
       " 2622.0,\n",
       " 2622.0,\n",
       " 2622.0,\n",
       " 2622.0,\n",
       " 2622.0,\n",
       " 2622.0,\n",
       " 2622.0,\n",
       " 2622.0,\n",
       " 2622.0,\n",
       " 2622.0,\n",
       " 2622.0,\n",
       " 2622.0,\n",
       " 2622.0,\n",
       " 2622.0,\n",
       " 2622.0,\n",
       " 2622.0,\n",
       " 2622.0,\n",
       " 2622.0,\n",
       " 2622.0,\n",
       " 2622.0,\n",
       " 2622.0,\n",
       " 2622.0,\n",
       " 2622.0,\n",
       " 2622.0,\n",
       " 2622.0,\n",
       " 2622.0,\n",
       " 2622.0,\n",
       " 2622.0,\n",
       " 2622.0,\n",
       " 2622.0,\n",
       " 2622.0,\n",
       " 2622.0,\n",
       " 2622.0,\n",
       " 2622.0,\n",
       " 2622.0,\n",
       " 2622.0,\n",
       " 2622.0,\n",
       " 2622.0,\n",
       " 2622.0,\n",
       " 2622.0,\n",
       " 2622.0,\n",
       " 2622.0,\n",
       " 2622.0,\n",
       " 2622.0,\n",
       " 2622.0,\n",
       " 2622.0,\n",
       " 2622.0,\n",
       " 2622.0,\n",
       " 2622.0,\n",
       " 2622.0,\n",
       " 2622.0,\n",
       " 2622.0,\n",
       " 2622.0,\n",
       " 2622.0,\n",
       " 2622.0,\n",
       " 2622.0,\n",
       " 2622.0,\n",
       " 2622.0,\n",
       " 2622.0,\n",
       " 2622.0,\n",
       " 2622.0,\n",
       " 2622.0]"
      ]
     },
     "execution_count": 18,
     "metadata": {},
     "output_type": "execute_result"
    },
    {
     "name": "stdout",
     "output_type": "stream",
     "text": [
      "time: 15 ms (started: 2023-12-04 01:35:24 +00:00)\n"
     ]
    }
   ],
   "source": [
    "min"
   ]
  },
  {
   "cell_type": "code",
   "execution_count": 19,
   "metadata": {},
   "outputs": [
    {
     "data": {
      "text/plain": [
       "50"
      ]
     },
     "execution_count": 19,
     "metadata": {},
     "output_type": "execute_result"
    },
    {
     "name": "stdout",
     "output_type": "stream",
     "text": [
      "time: 0 ns (started: 2023-12-04 01:35:27 +00:00)\n"
     ]
    }
   ],
   "source": [
    "len(pop)"
   ]
  },
  {
   "cell_type": "code",
   "execution_count": 20,
   "metadata": {
    "scrolled": true
   },
   "outputs": [
    {
     "name": "stdout",
     "output_type": "stream",
     "text": [
      "[6308, 8549, 1981, 4789, 2132]\n",
      "time: 0 ns (started: 2023-12-04 01:35:28 +00:00)\n"
     ]
    }
   ],
   "source": [
    "for i in hof:\n",
    "    print(i)"
   ]
  },
  {
   "cell_type": "markdown",
   "metadata": {},
   "source": [
    "## Plotting (optional)"
   ]
  },
  {
   "cell_type": "code",
   "execution_count": 21,
   "metadata": {},
   "outputs": [
    {
     "data": {
      "text/plain": [
       "<matplotlib.legend.Legend at 0x200466426d0>"
      ]
     },
     "execution_count": 21,
     "metadata": {},
     "output_type": "execute_result"
    },
    {
     "data": {
      "image/png": "[encoded data removed]",
      "text/plain": [
       "<Figure size 640x480 with 1 Axes>"
      ]
     },
     "metadata": {},
     "output_type": "display_data"
    },
    {
     "name": "stdout",
     "output_type": "stream",
     "text": [
      "time: 344 ms (started: 2023-12-04 01:35:30 +00:00)\n"
     ]
    }
   ],
   "source": [
    "# This is not necessary - but useful to see what is going on for a single run\n",
    "# code for plotting\n",
    "\n",
    "gen = log.select(\"gen\")\n",
    "fit_max = log.select(\"max\")\n",
    "fit_min = log.select(\"min\")\n",
    "fit_avg = log.select(\"avg\")\n",
    "\n",
    "fig, ax1 = plt.subplots()\n",
    "\n",
    "# set this to the number of generations in the EA\n",
    "my_gens=ngen\n",
    "# add a line to indicate \"valid solutions\" i.e solutions with the correct number of cameras. Any solution below this line is valid\n",
    "worst_valid = [num_cells]*(my_gens+1)\n",
    "\n",
    "line1 = ax1.plot(gen, fit_max, \"r-\", label=\"max Fitness\")\n",
    "line2 = ax1.plot(gen, fit_min, \"b-\", label=\"min Fitness\")\n",
    "line3 = ax1.plot(gen , fit_avg, \"g-\", label=\"avg Fitness\")\n",
    "line4 = ax1.plot(gen, worst_valid, \"y-\", label=\"worst valid soluton\")\n",
    "ax1.set_xlabel(\"Generations\")\n",
    "ax1.set_ylabel(\"Fitness\", color=\"b\")\n",
    "for tl in ax1.get_yticklabels():\n",
    "    tl.set_color(\"b\")\n",
    "    \n",
    "#plt.ylim(0,num_cells+10)   # change the scale on the graph to see the valid solutions better\n",
    "\n",
    "lns = line1+line2+line3+line4\n",
    "labs = [l.get_label() for l in lns]\n",
    "ax1.legend(lns, labs, loc=\"center right\")\n",
    "\n"
   ]
  },
  {
   "cell_type": "markdown",
   "metadata": {},
   "source": [
    "# Visualisation Tools\n",
    "\n",
    "The code sets up some functions to allow you do visualise solutions. You shouldn't need to alter the code in the cell below (make sure the variable *path_binary_vis* is set to the correct binary at the start)\n",
    "\n"
   ]
  },
  {
   "cell_type": "code",
   "execution_count": 22,
   "metadata": {},
   "outputs": [
    {
     "name": "stdout",
     "output_type": "stream",
     "text": [
      "time: 0 ns (started: 2023-12-04 01:35:31 +00:00)\n"
     ]
    }
   ],
   "source": [
    "\n",
    "# Run this cell to define the functions\n",
    "def solution_converter(index, instance_size):\n",
    "    counter = 0\n",
    "    for i in range(instance_size):\n",
    "        for j in range(instance_size):\n",
    "            if (counter == index):\n",
    "                return i,j\n",
    "            else:\n",
    "                counter+=1\n",
    "\n",
    "# assumes path_binary is already set \n",
    "def visualise_objective_function(x, instance_size, nb_cameras, instance_file):\n",
    "    params = ['%.16g' % a for a in x]\n",
    "    cmd = [path_binary_vis,str(instance_size),str(nb_cameras)]+params+[instance_file]\n",
    "    with open(\"temp_results.csv\",'w') as fd:\n",
    "        s = subprocess.call(cmd, stdout=fd)\n",
    "    # Plotting the probability of detection\n",
    "    data = pd.read_csv(\"temp_results.csv\")\n",
    "    values = np.array(data[\"value\"])\n",
    "    values[values < 0.5] = 0\n",
    "    values = values.reshape(instance_size,instance_size)\n",
    "    plt.imshow(values,cmap=\"Reds\")\n",
    "    # Plotting cameras\n",
    "    cameras_indices = [index for (index, item) in enumerate(list(x)) if item == 1]\n",
    "    for c in cameras_indices:\n",
    "        x,y = solution_converter(c, instance_size=instance_size)\n",
    "        plt.scatter(y,x,c=\"blue\",marker=\"D\")\n",
    "    # Plotting walls (if any)\n",
    "    if (instance_file != \"\"):\n",
    "        walls = pd.read_csv(instance_file,header=None)\n",
    "        plt.scatter(walls[1],walls[0],c=\"black\", marker=\"_\")\n",
    "    plt.xlim(0,instance_size-1)\n",
    "    plt.xlabel(\"y\")\n",
    "    plt.ylim(0,instance_size-1)\n",
    "    plt.ylabel(\"x\")\n",
    "    plt.show()\n",
    "    \n"
   ]
  },
  {
   "cell_type": "markdown",
   "metadata": {},
   "source": [
    "### Visualising a solution\n",
    "\n",
    "Two examples are given:\n",
    "- visualising a random solution\n",
    "- visualising an invidual returned from the EA\n"
   ]
  },
  {
   "cell_type": "code",
   "execution_count": 23,
   "metadata": {},
   "outputs": [
    {
     "data": {
      "image/png": "[encoded data removed]",
      "text/plain": [
       "<Figure size 640x480 with 1 Axes>"
      ]
     },
     "metadata": {},
     "output_type": "display_data"
    },
    {
     "name": "stdout",
     "output_type": "stream",
     "text": [
      "time: 266 ms (started: 2023-12-04 01:35:32 +00:00)\n"
     ]
    }
   ],
   "source": [
    "# Here we just create a random solution for a 100x100 grid with two cameras at random positions\n",
    "# you can experiment to see what different solutions look like\n",
    "\n",
    "\n",
    "# this assumes a grid of size 100x100 \n",
    "sol = np.zeros(100*100)\n",
    "\n",
    "# add some cameras!\n",
    "sol[random.randint(0, 10000)] = 1\n",
    "sol[random.randint(0, 10000)] = 1\n",
    "sol[random.randint(0, 10000)] = 1\n",
    "sol[random.randint(0, 10000)] = 1\n",
    "sol[random.randint(0, 10000)] = 1\n",
    "\n",
    "actual_cameras=sum(sol)  # need to pass the actual numbers of cameras in the solution, regardless of whether it is valid\n",
    "\n",
    "# choose an empty grid\n",
    "#visualise_objective_function(sol, instance_size= 100, nb_cameras=2, instance_file=\"\")\n",
    "\n",
    "# choose a layout\n",
    "\n",
    "\n",
    "visualise_objective_function(sol, instance_size=instance_size, nb_cameras=actual_cameras, instance_file=myinst)\n"
   ]
  },
  {
   "cell_type": "code",
   "execution_count": 24,
   "metadata": {},
   "outputs": [
    {
     "name": "stdout",
     "output_type": "stream",
     "text": [
      "time: 0 ns (started: 2023-12-04 01:35:32 +00:00)\n"
     ]
    }
   ],
   "source": [
    "# # here we visualise the best result returned from the algorithm - it assumes an individual is a list of 0,1s. \n",
    "# # If your individual uses a different representation then adapt accordingly to reshape into this form\n",
    "\n",
    "# # first we need to turn the individual returned into a list\n",
    "# best_solution=[]\n",
    "# for i in range(0, len(hof[0])):\n",
    "#     best_solution.append(hof[0][i])\n",
    "    \n",
    "# actual_cameras=sum(best_solution)  # need to give number of cameras in the solution\n",
    "\n",
    "# visualise_objective_function(best_solution, instance_size=instance_size, nb_cameras=actual_cameras, instance_file=myinst)"
   ]
  },
  {
   "cell_type": "code",
   "execution_count": 25,
   "metadata": {},
   "outputs": [
    {
     "data": {
      "text/plain": [
       "([6308, 8549, 1981, 4789, 2132], 10000)"
      ]
     },
     "execution_count": 25,
     "metadata": {},
     "output_type": "execute_result"
    },
    {
     "name": "stdout",
     "output_type": "stream",
     "text": [
      "time: 0 ns (started: 2023-12-04 01:35:33 +00:00)\n"
     ]
    }
   ],
   "source": [
    "hof[0], num_cells"
   ]
  },
  {
   "cell_type": "code",
   "execution_count": 26,
   "metadata": {},
   "outputs": [
    {
     "data": {
      "image/png": "[encoded data removed]",
      "text/plain": [
       "<Figure size 640x480 with 1 Axes>"
      ]
     },
     "metadata": {},
     "output_type": "display_data"
    },
    {
     "name": "stdout",
     "output_type": "stream",
     "text": [
      "time: 218 ms (started: 2023-12-04 01:35:34 +00:00)\n"
     ]
    }
   ],
   "source": [
    "best_solution=np.zeros(num_cells)\n",
    "best_solution=convert_individual_bitstring(hof[0])\n",
    "actual_cameras=sum(best_solution)  # need to give number of cameras in the solution\n",
    "visualise_objective_function(best_solution, instance_size=instance_size, nb_cameras=actual_cameras, instance_file=myinst)"
   ]
  },
  {
   "cell_type": "code",
   "execution_count": 27,
   "metadata": {},
   "outputs": [
    {
     "data": {
      "text/plain": [
       "[6308, 8549, 1981, 4789, 2132]"
      ]
     },
     "execution_count": 27,
     "metadata": {},
     "output_type": "execute_result"
    },
    {
     "name": "stdout",
     "output_type": "stream",
     "text": [
      "time: 0 ns (started: 2023-12-04 01:35:34 +00:00)\n"
     ]
    }
   ],
   "source": [
    "hof[0]"
   ]
  },
  {
   "cell_type": "code",
   "execution_count": null,
   "metadata": {},
   "outputs": [],
   "source": []
  }
 ],
 "metadata": {
  "kernelspec": {
   "display_name": "Python 3 (ipykernel)",
   "language": "python",
   "name": "python3"
  },
  "language_info": {
   "codemirror_mode": {
    "name": "ipython",
    "version": 3
   },
   "file_extension": ".py",
   "mimetype": "text/x-python",
   "name": "python",
   "nbconvert_exporter": "python",
   "pygments_lexer": "ipython3",
   "version": "3.11.3"
  }
 },
 "nbformat": 4,
 "nbformat_minor": 4
}
